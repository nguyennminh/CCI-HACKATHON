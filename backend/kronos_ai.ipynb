{
 "cells": [
  {
   "cell_type": "code",
   "execution_count": 5,
   "id": "94edd6af",
   "metadata": {},
   "outputs": [
    {
     "name": "stdout",
     "output_type": "stream",
     "text": [
      "Defaulting to user installation because normal site-packages is not writeable\n",
      "Requirement already satisfied: kronoslabs in c:\\users\\kotha\\appdata\\roaming\\python\\python39\\site-packages (1.1.2)\n",
      "Requirement already satisfied: requests>=2.25.0 in c:\\programdata\\anaconda3\\envs\\itcs-3156\\lib\\site-packages (from kronoslabs) (2.32.5)\n",
      "Requirement already satisfied: charset_normalizer<4,>=2 in c:\\programdata\\anaconda3\\envs\\itcs-3156\\lib\\site-packages (from requests>=2.25.0->kronoslabs) (3.4.3)\n",
      "Requirement already satisfied: idna<4,>=2.5 in c:\\programdata\\anaconda3\\envs\\itcs-3156\\lib\\site-packages (from requests>=2.25.0->kronoslabs) (3.10)\n",
      "Requirement already satisfied: urllib3<3,>=1.21.1 in c:\\programdata\\anaconda3\\envs\\itcs-3156\\lib\\site-packages (from requests>=2.25.0->kronoslabs) (2.5.0)\n",
      "Requirement already satisfied: certifi>=2017.4.17 in c:\\programdata\\anaconda3\\envs\\itcs-3156\\lib\\site-packages (from requests>=2.25.0->kronoslabs) (2025.8.3)\n",
      "Note: you may need to restart the kernel to use updated packages.\n",
      "Hello! I'm Hermes, an AI assistant created by Nous Research. I don't have feelings, so I don't experience emotions like humans do. However, I'm here and ready to help you with any questions or tasks you may have. How can I assist you today?\n",
      "Once upon a time, in a small village nestled deep within a lush forest, there lived a young girl named Lily. Lily was known throughout the village for her kind heart and her love for all living creatures. She spent her days exploring the woods, befriending animals, and helping her neighbors in any way she could.\n",
      "\n",
      "One day, as Lily ventured deeper into the forest than ever before, she stumbled upon a hidden grove. In the center of the grove stood an ancient, majestic tree with a door carved into its trunk. Curiosity got the better of her, and she pushed the door open, revealing a hidden staircase leading underground.\n",
      "\n",
      "As Lily descended the stairs, she found herself in a vast, cavernous room filled with glowing crystals that illuminated the space with a soft, ethereal light. In the center of the room sat an old, wise woman with eyes that sparkled like the crystals around her. The woman introduced herself as the guardian of the forest and explained that she had been waiting for a kind-hearted soul like Lily to discover her secret realm.\n",
      "\n",
      "The guardian told Lily that the forest was in grave danger, as a dark force threatened to consume it and all its inhabitants. She revealed that only a brave and compassionate soul could restore balance and save the forest. Lily, without hesitation, accepted the challenge and pledged her help.\n",
      "\n",
      "With the guardian's guidance, Lily embarked on a series of trials, facing her fears and using her innate kindness to overcome obstacles. Along the way, she made new friends among the creatures of the forest, who joined her in her quest to save their home.\n",
      "\n",
      "In the end, Lily's unwavering courage, compassion, and love for all living things proved to be the key to dispelling the darkness and restoring peace to the forest. The guardian bestowed upon her a special gift – the ability to communicate with animals and plants – and thanked her for her selflessness and bravery.\n",
      "\n",
      "From that day forward, Lily became the protector of the forest, ensuring that it remained a safe haven for all its inhabitants. And though she continued to live in the village, she always knew that she had a special connection to the magical realm beneath the ancient tree, a secret that she shared with the guardian and the creatures of the forest."
     ]
    }
   ],
   "source": [
    "%pip install kronoslabs\n",
    "\n",
    "from kronoslabs import KronosLabs\n",
    "\n",
    "# Initialize the client. DONT FORGET TO PLUG IN THE API KEY!!!\n",
    "client = KronosLabs(api_key=\"kl_8de5d1021ab88d725db4426791bcd805cf189a467e0465488a0567c0647b64bb\")\n",
    "\n",
    "# Non-streaming chat completion\n",
    "response = client.chat.completions.create(\n",
    "    prompt=\"Hello, how are you?\",\n",
    "    model=\"hermes\",\n",
    "    temperature=0.7,\n",
    "    is_stream=False\n",
    ")\n",
    "\n",
    "print(response.choices[0].message.content) # <- prints the response the model gives\n",
    "\n",
    "# Streaming chat completion\n",
    "stream = client.chat.completions.create(\n",
    "    prompt=\"Tell me a story\",\n",
    "    model=\"hermes\",\n",
    "    temperature=0.7,\n",
    "    is_stream=True\n",
    ")\n",
    "\n",
    "for chunk in stream:\n",
    "    if chunk.choices[0].delta.content:\n",
    "        print(chunk.choices[0].delta.content, end=\"\") # <-prints the data as its being made"
   ]
  }
 ],
 "metadata": {
  "kernelspec": {
   "display_name": "itcs-3156",
   "language": "python",
   "name": "python3"
  },
  "language_info": {
   "codemirror_mode": {
    "name": "ipython",
    "version": 3
   },
   "file_extension": ".py",
   "mimetype": "text/x-python",
   "name": "python",
   "nbconvert_exporter": "python",
   "pygments_lexer": "ipython3",
   "version": "3.9.19"
  }
 },
 "nbformat": 4,
 "nbformat_minor": 5
}
