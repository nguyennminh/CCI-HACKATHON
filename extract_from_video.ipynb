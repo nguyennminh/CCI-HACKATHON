{
 "cells": [
  {
   "cell_type": "code",
   "execution_count": 17,
   "id": "fd3480b2",
   "metadata": {},
   "outputs": [
    {
     "name": "stdout",
     "output_type": "stream",
     "text": [
      "Defaulting to user installation because normal site-packages is not writeable\n",
      "Requirement already satisfied: mediapipe in c:\\users\\kotha\\appdata\\roaming\\python\\python39\\site-packages (0.10.21)\n",
      "Requirement already satisfied: opencv-python in c:\\users\\kotha\\appdata\\roaming\\python\\python39\\site-packages (4.11.0.86)\n",
      "Requirement already satisfied: pandas in c:\\programdata\\anaconda3\\envs\\itcs-3156\\lib\\site-packages (2.2.2)\n",
      "Requirement already satisfied: numpy in c:\\users\\kotha\\appdata\\roaming\\python\\python39\\site-packages (1.26.4)\n",
      "Requirement already satisfied: scikit-learn in c:\\programdata\\anaconda3\\envs\\itcs-3156\\lib\\site-packages (1.5.2)\n",
      "Requirement already satisfied: absl-py in c:\\programdata\\anaconda3\\envs\\itcs-3156\\lib\\site-packages (from mediapipe) (2.3.1)\n",
      "Requirement already satisfied: attrs>=19.1.0 in c:\\programdata\\anaconda3\\envs\\itcs-3156\\lib\\site-packages (from mediapipe) (25.3.0)\n",
      "Requirement already satisfied: flatbuffers>=2.0 in c:\\programdata\\anaconda3\\envs\\itcs-3156\\lib\\site-packages (from mediapipe) (25.2.10)\n",
      "Requirement already satisfied: jax in c:\\users\\kotha\\appdata\\roaming\\python\\python39\\site-packages (from mediapipe) (0.4.30)\n",
      "Requirement already satisfied: jaxlib in c:\\users\\kotha\\appdata\\roaming\\python\\python39\\site-packages (from mediapipe) (0.4.30)\n",
      "Requirement already satisfied: matplotlib in c:\\programdata\\anaconda3\\envs\\itcs-3156\\lib\\site-packages (from mediapipe) (3.9.2)\n",
      "Requirement already satisfied: opencv-contrib-python in c:\\users\\kotha\\appdata\\roaming\\python\\python39\\site-packages (from mediapipe) (4.11.0.86)\n",
      "Requirement already satisfied: protobuf<5,>=4.25.3 in c:\\users\\kotha\\appdata\\roaming\\python\\python39\\site-packages (from mediapipe) (4.25.8)\n",
      "Requirement already satisfied: sounddevice>=0.4.4 in c:\\users\\kotha\\appdata\\roaming\\python\\python39\\site-packages (from mediapipe) (0.5.2)\n",
      "Requirement already satisfied: sentencepiece in c:\\users\\kotha\\appdata\\roaming\\python\\python39\\site-packages (from mediapipe) (0.2.1)\n",
      "Requirement already satisfied: python-dateutil>=2.8.2 in c:\\programdata\\anaconda3\\envs\\itcs-3156\\lib\\site-packages (from pandas) (2.9.0.post0)\n",
      "Requirement already satisfied: pytz>=2020.1 in c:\\programdata\\anaconda3\\envs\\itcs-3156\\lib\\site-packages (from pandas) (2025.2)\n",
      "Requirement already satisfied: tzdata>=2022.7 in c:\\programdata\\anaconda3\\envs\\itcs-3156\\lib\\site-packages (from pandas) (2025.2)\n",
      "Requirement already satisfied: scipy>=1.6.0 in c:\\programdata\\anaconda3\\envs\\itcs-3156\\lib\\site-packages (from scikit-learn) (1.13.1)\n",
      "Requirement already satisfied: joblib>=1.2.0 in c:\\programdata\\anaconda3\\envs\\itcs-3156\\lib\\site-packages (from scikit-learn) (1.5.1)\n",
      "Requirement already satisfied: threadpoolctl>=3.1.0 in c:\\programdata\\anaconda3\\envs\\itcs-3156\\lib\\site-packages (from scikit-learn) (3.6.0)\n",
      "Requirement already satisfied: six>=1.5 in c:\\programdata\\anaconda3\\envs\\itcs-3156\\lib\\site-packages (from python-dateutil>=2.8.2->pandas) (1.17.0)\n",
      "Requirement already satisfied: CFFI>=1.0 in c:\\programdata\\anaconda3\\envs\\itcs-3156\\lib\\site-packages (from sounddevice>=0.4.4->mediapipe) (1.17.1)\n",
      "Requirement already satisfied: ml-dtypes>=0.2.0 in c:\\programdata\\anaconda3\\envs\\itcs-3156\\lib\\site-packages (from jax->mediapipe) (0.4.1)\n",
      "Requirement already satisfied: opt-einsum in c:\\programdata\\anaconda3\\envs\\itcs-3156\\lib\\site-packages (from jax->mediapipe) (3.4.0)\n",
      "Requirement already satisfied: importlib-metadata>=4.6 in c:\\programdata\\anaconda3\\envs\\itcs-3156\\lib\\site-packages (from jax->mediapipe) (8.7.0)\n",
      "Requirement already satisfied: contourpy>=1.0.1 in c:\\programdata\\anaconda3\\envs\\itcs-3156\\lib\\site-packages (from matplotlib->mediapipe) (1.3.0)\n",
      "Requirement already satisfied: cycler>=0.10 in c:\\programdata\\anaconda3\\envs\\itcs-3156\\lib\\site-packages (from matplotlib->mediapipe) (0.12.1)\n",
      "Requirement already satisfied: fonttools>=4.22.0 in c:\\programdata\\anaconda3\\envs\\itcs-3156\\lib\\site-packages (from matplotlib->mediapipe) (4.59.1)\n",
      "Requirement already satisfied: kiwisolver>=1.3.1 in c:\\programdata\\anaconda3\\envs\\itcs-3156\\lib\\site-packages (from matplotlib->mediapipe) (1.4.7)\n",
      "Requirement already satisfied: packaging>=20.0 in c:\\programdata\\anaconda3\\envs\\itcs-3156\\lib\\site-packages (from matplotlib->mediapipe) (25.0)\n",
      "Requirement already satisfied: pillow>=8 in c:\\programdata\\anaconda3\\envs\\itcs-3156\\lib\\site-packages (from matplotlib->mediapipe) (11.3.0)\n",
      "Requirement already satisfied: pyparsing>=2.3.1 in c:\\programdata\\anaconda3\\envs\\itcs-3156\\lib\\site-packages (from matplotlib->mediapipe) (3.2.3)\n",
      "Requirement already satisfied: importlib-resources>=3.2.0 in c:\\programdata\\anaconda3\\envs\\itcs-3156\\lib\\site-packages (from matplotlib->mediapipe) (6.5.2)\n",
      "Requirement already satisfied: pycparser in c:\\programdata\\anaconda3\\envs\\itcs-3156\\lib\\site-packages (from CFFI>=1.0->sounddevice>=0.4.4->mediapipe) (2.22)\n",
      "Requirement already satisfied: zipp>=3.20 in c:\\programdata\\anaconda3\\envs\\itcs-3156\\lib\\site-packages (from importlib-metadata>=4.6->jax->mediapipe) (3.23.0)\n",
      "Note: you may need to restart the kernel to use updated packages.\n"
     ]
    }
   ],
   "source": [
    "%pip install mediapipe opencv-python pandas numpy scikit-learn"
   ]
  },
  {
   "cell_type": "code",
   "execution_count": 18,
   "id": "4321bdc3",
   "metadata": {},
   "outputs": [],
   "source": [
    "import cv2\n",
    "import mediapipe as mp\n",
    "import pandas as pd\n",
    "import numpy as np\n",
    "from sklearn.metrics.pairwise import cosine_similarity"
   ]
  },
  {
   "cell_type": "code",
   "execution_count": 19,
   "id": "847a943f",
   "metadata": {},
   "outputs": [],
   "source": [
    "mp_pose = mp.solutions.pose\n",
    "pose = mp_pose.Pose(static_image_mode=False, min_detection_confidence=0.5, min_tracking_confidence=0.5)\n",
    "\n",
    "def extract_pose_from_video(video_path, output_csv=\"video_pose.csv\"):\n",
    "    cap = cv2.VideoCapture(video_path)\n",
    "    landmarks_list = []\n",
    "\n",
    "    while cap.isOpened():\n",
    "        success, frame = cap.read()\n",
    "        if not success:\n",
    "            break\n",
    "        \n",
    "        frame_rgb = cv2.cvtColor(frame, cv2.COLOR_BGR2RGB)\n",
    "        results = pose.process(frame_rgb)\n",
    "\n",
    "        if results.pose_landmarks:\n",
    "            landmarks = []\n",
    "            for lm in results.pose_landmarks.landmark:\n",
    "                landmarks.extend([lm.x, lm.y, lm.z, lm.visibility])\n",
    "            landmarks_list.append(landmarks)\n",
    "    \n",
    "    cap.release()\n",
    "    df = pd.DataFrame(landmarks_list)\n",
    "    df.to_csv(output_csv, index=False)\n",
    "    print(f\"✅ Pose data saved to {output_csv}\")\n",
    "    return df\n"
   ]
  },
  {
   "cell_type": "code",
   "execution_count": 20,
   "id": "886450f4",
   "metadata": {},
   "outputs": [
    {
     "name": "stdout",
     "output_type": "stream",
     "text": [
      "✅ Pose data saved to video_pose.csv\n"
     ]
    }
   ],
   "source": [
    "pose_df = extract_pose_from_video(\"IMG_3072.MOV\")"
   ]
  },
  {
   "cell_type": "code",
   "execution_count": 21,
   "id": "f964dcda",
   "metadata": {},
   "outputs": [
    {
     "name": "stdout",
     "output_type": "stream",
     "text": [
      "🏸 Similarity score to reference form: 0.612\n",
      "⚠️ Significant deviation from good form.\n"
     ]
    }
   ],
   "source": [
    "# Load your datasets\n",
    "train_df = pd.read_csv(\"clean_smash_dataset.csv\")   # known good form data\n",
    "video_df = pose_df                       # pose extracted from your video\n",
    "\n",
    "# Step 1: Align column counts (important!)\n",
    "min_cols = min(train_df.shape[1], video_df.shape[1])\n",
    "train_df = train_df.iloc[:, :min_cols]\n",
    "video_df = video_df.iloc[:, :min_cols]\n",
    "\n",
    "# Step 2: Compute mean pose vectors\n",
    "train_mean = train_df.mean().values.reshape(1, -1)\n",
    "video_mean = video_df.mean().values.reshape(1, -1)\n",
    "\n",
    "# Step 3: Compute similarity\n",
    "similarity = cosine_similarity(video_mean, train_mean)[0][0]\n",
    "\n",
    "print(f\"🏸 Similarity score to reference form: {similarity:.3f}\")\n",
    "\n",
    "# Interpret score\n",
    "if similarity > 0.95:\n",
    "    print(\"Excellent — very close to good smash form!\")\n",
    "elif similarity > 0.85:\n",
    "    print(\"Good form overall, minor deviations.\")\n",
    "elif similarity > 0.75:\n",
    "    print(\"Fair form — needs some correction.\")\n",
    "else:\n",
    "    print(\"⚠️ Significant deviation from good form.\")"
   ]
  }
 ],
 "metadata": {
  "kernelspec": {
   "display_name": "itcs-3156",
   "language": "python",
   "name": "python3"
  },
  "language_info": {
   "codemirror_mode": {
    "name": "ipython",
    "version": 3
   },
   "file_extension": ".py",
   "mimetype": "text/x-python",
   "name": "python",
   "nbconvert_exporter": "python",
   "pygments_lexer": "ipython3",
   "version": "3.9.19"
  }
 },
 "nbformat": 4,
 "nbformat_minor": 5
}
